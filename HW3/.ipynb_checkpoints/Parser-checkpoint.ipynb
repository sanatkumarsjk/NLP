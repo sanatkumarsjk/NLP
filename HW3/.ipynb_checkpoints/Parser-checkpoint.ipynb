{
 "cells": [
  {
   "cell_type": "code",
   "execution_count": 461,
   "metadata": {},
   "outputs": [],
   "source": [
    "import pandas as pd\n",
    "from csv import reader\n",
    "\n",
    "def read(filename):\n",
    "    data = open(\"data.conll\", \"r\")\n",
    "    return data"
   ]
  },
  {
   "cell_type": "code",
   "execution_count": 462,
   "metadata": {},
   "outputs": [],
   "source": [
    "visited = set()\n",
    "def process_Data(data):\n",
    "    new_sentence = False\n",
    "    parsing_data = []\n",
    "    head = [0] * 100\n",
    "    res = []\n",
    "    count = 0\n",
    "    for line in data:\n",
    "        if line[0] == '#':\n",
    "            continue\n",
    "        d = line.split('\\t')\n",
    "\n",
    "        if line == '\\n':\n",
    "            count+=1\n",
    "            if count !=100000:\n",
    "                res.append(find_actions(parsing_data, head))\n",
    "            parsing_data = []\n",
    "            head = [0]*100\n",
    "            visited.clear()\n",
    "            continue\n",
    "        parsing_data.append(d)\n",
    "        head[int(d[6])] +=1\n",
    "        head[int(d[0])] +=1\n",
    "    return res\n",
    "\n",
    "def find_actions(data,head):\n",
    "    seq = []\n",
    "    stack = []\n",
    "    i = -1\n",
    "    while i < len(data)-1: \n",
    "        i+=1\n",
    "        if len(stack) < 1:\n",
    "            seq.append('Shift')\n",
    "            stack.append(data[i])\n",
    "            if len(stack) < 2:\n",
    "                continue\n",
    "            i+=1\n",
    "        seq.append('Shift')\n",
    "        stack.append(data[i])   \n",
    "        seq+=process(stack,head)    \n",
    "    return seq\n",
    "\n",
    "def delete_elm(stack,head):\n",
    "    continue_flg = False\n",
    "    if head[int(stack[-1][0])] <= 0:\n",
    "        del stack[-1]\n",
    "        continue_flg = True\n",
    "        if head[int(stack[-1][0])] <= 0:\n",
    "            del stack[-1]\n",
    "            continue_flg = True     \n",
    "    elif head[int(stack[-2][0])] <= 0:\n",
    "        del stack[-2]\n",
    "        continue_flg = True  \n",
    "    return continue_flg"
   ]
  },
  {
   "cell_type": "code",
   "execution_count": 463,
   "metadata": {},
   "outputs": [],
   "source": [
    "def process(stack, head):\n",
    "    seq = []   \n",
    "    flag = True\n",
    "    while flag and len(stack) > 1:\n",
    "        continue_flg = False\n",
    "        if (stack[-1][0],stack[-2][0]) in visited:\n",
    "            return seq\n",
    "        if stack[-1][6] == stack[-2][0]:\n",
    "            visited.add((stack[-1][0],stack[-2][0]))\n",
    "            seq.append(\"RightArc\"+stack[-2][0]+'-'+ stack[-1][0])\n",
    "            head[int(stack[-1][0])] -= 1\n",
    "            head[int(stack[-2][0])] -= 1\n",
    "            continue_flg = delete_elm(stack, head)\n",
    "                \n",
    "        elif stack[-2][6] == stack[-1][0]:\n",
    "            visited.add((stack[-1][0],stack[-2][0]))\n",
    "            seq.append(\"LeftArc\"+stack[-1][0]+'-'+ stack[-2][0])\n",
    "            head[int(stack[-2][0])] -= 1\n",
    "            head[int(stack[-1][0])] -= 1\n",
    "            continue_flg = delete_elm(stack, head)           \n",
    "            \n",
    "        if continue_flg: continue\n",
    "        flag = False\n",
    "    return seq\n",
    "    \n",
    "   \n",
    "data = read('data.conll')  \n"
   ]
  },
  {
   "cell_type": "code",
   "execution_count": 464,
   "metadata": {},
   "outputs": [],
   "source": [
    "with open('sjk6dn-parsing-actions.txt', 'w') as filehandle:\n",
    "    for listitem in process_Data(data):\n",
    "        filehandle.write('%s\\n' % listitem)"
   ]
  },
  {
   "cell_type": "code",
   "execution_count": null,
   "metadata": {},
   "outputs": [],
   "source": []
  },
  {
   "cell_type": "code",
   "execution_count": null,
   "metadata": {},
   "outputs": [],
   "source": []
  },
  {
   "cell_type": "code",
   "execution_count": null,
   "metadata": {},
   "outputs": [],
   "source": []
  }
 ],
 "metadata": {
  "kernelspec": {
   "display_name": "Python 3",
   "language": "python",
   "name": "python3"
  },
  "language_info": {
   "codemirror_mode": {
    "name": "ipython",
    "version": 3
   },
   "file_extension": ".py",
   "mimetype": "text/x-python",
   "name": "python",
   "nbconvert_exporter": "python",
   "pygments_lexer": "ipython3",
   "version": "3.7.2"
  }
 },
 "nbformat": 4,
 "nbformat_minor": 4
}
